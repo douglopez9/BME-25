{
 "cells": [
  {
   "cell_type": "markdown",
   "metadata": {},
   "source": [
    "# Welcome to BME 25 Python Labs!\n",
    "\n",
    "    This lab section has been designed to give you a crash course in using the programming language Python.  Python is an incredibly powerful open source language that has all the functionality of Matlab and more.  Hopefully after this course you will be able to  use the techniques you techniques you learn throughout your continuing career and use them to further your ability.\n",
    "    \n",
    "    Due to the brevity of this introduction, much of the inner workings of computer programming will be dealt with in abstraction.  I encourage you to learn more for example through online documentation and tutorials.  \n",
    "\n",
    "    I reccomend downloading Python on your personal computing device.  The package that should be downloaded is Anaconda 4.4.0 (Python 3.6 version).  THis can be found here:  https://www.continuum.io/downloads\n",
    "    \n",
    "   The Anaconda package includes many useful libraries, as well as the Jupyter notebook package.  This notebook software is extremely useful when working with Python, as it enables users to share their workspace directly and bypasses direct use of a terminal or the default workspace IDLE.  \n",
    "   \n",
    "   I recomend that you crate a folder for this class (BME 25) somewhere easily accessible.  Then download this assignment's notebook and move it to that location.  Lab 0 link:  \n"
   ]
  },
  {
   "cell_type": "code",
   "execution_count": null,
   "metadata": {
    "collapsed": true
   },
   "outputs": [],
   "source": []
  }
 ],
 "metadata": {
  "kernelspec": {
   "display_name": "Python 3",
   "language": "python",
   "name": "python3"
  },
  "language_info": {
   "codemirror_mode": {
    "name": "ipython",
    "version": 3
   },
   "file_extension": ".py",
   "mimetype": "text/x-python",
   "name": "python",
   "nbconvert_exporter": "python",
   "pygments_lexer": "ipython3",
   "version": "3.6.1"
  }
 },
 "nbformat": 4,
 "nbformat_minor": 2
}
